{
 "cells": [
  {
   "cell_type": "code",
   "execution_count": 1,
   "id": "42f2b901",
   "metadata": {},
   "outputs": [],
   "source": [
    "import numpy as np\n",
    "import matplotlib.pyplot as plt"
   ]
  },
  {
   "cell_type": "code",
   "execution_count": 7,
   "id": "730dd229",
   "metadata": {},
   "outputs": [],
   "source": [
    "def gauss_source(data, mittelwert, varianz):\n",
    "    gauss = []\n",
    "    for i in data:\n",
    "        y = (1/(2*np.pi*varianz**2)**(1/2)) * np.exp(- ((i - mittelwert**2) / (2*varianz**2)))\n",
    "        gauss.append(y)\n",
    "    return gauss"
   ]
  },
  {
   "cell_type": "code",
   "execution_count": 8,
   "id": "fe1a0727",
   "metadata": {},
   "outputs": [],
   "source": [
    "data = np.linspace(1,10, 10)\n",
    "mittelwert = 0\n",
    "varianz = 2"
   ]
  },
  {
   "cell_type": "code",
   "execution_count": null,
   "id": "fc657915",
   "metadata": {},
   "outputs": [],
   "source": []
  },
  {
   "cell_type": "code",
   "execution_count": 9,
   "id": "5894535d",
   "metadata": {},
   "outputs": [
    {
     "ename": "NameError",
     "evalue": "name 'Gauss_S' is not defined",
     "output_type": "error",
     "traceback": [
      "\u001b[0;31m---------------------------------------------------------------------------\u001b[0m",
      "\u001b[0;31mNameError\u001b[0m                                 Traceback (most recent call last)",
      "\u001b[0;32m/tmp/ipykernel_12298/3165448359.py\u001b[0m in \u001b[0;36m<module>\u001b[0;34m\u001b[0m\n\u001b[0;32m----> 1\u001b[0;31m \u001b[0mGauss_S\u001b[0m\u001b[0;34m\u001b[0m\u001b[0;34m\u001b[0m\u001b[0m\n\u001b[0m",
      "\u001b[0;31mNameError\u001b[0m: name 'Gauss_S' is not defined"
     ]
    }
   ],
   "source": [
    "Gauss_S"
   ]
  },
  {
   "cell_type": "code",
   "execution_count": null,
   "id": "aff7ce89",
   "metadata": {},
   "outputs": [],
   "source": []
  },
  {
   "cell_type": "code",
   "execution_count": null,
   "id": "c3b22f42",
   "metadata": {},
   "outputs": [],
   "source": []
  }
 ],
 "metadata": {
  "kernelspec": {
   "display_name": "conda",
   "language": "python",
   "name": "conda"
  },
  "language_info": {
   "codemirror_mode": {
    "name": "ipython",
    "version": 3
   },
   "file_extension": ".py",
   "mimetype": "text/x-python",
   "name": "python",
   "nbconvert_exporter": "python",
   "pygments_lexer": "ipython3",
   "version": "3.9.7"
  }
 },
 "nbformat": 4,
 "nbformat_minor": 5
}
