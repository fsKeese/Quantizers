{
 "cells": [
  {
   "cell_type": "code",
   "execution_count": 56,
   "id": "dedc9712",
   "metadata": {},
   "outputs": [],
   "source": [
    "import numpy as np\n",
    "import matplotlib.pyplot as plt"
   ]
  },
  {
   "cell_type": "code",
   "execution_count": 67,
   "id": "3ea9ffd2",
   "metadata": {},
   "outputs": [],
   "source": [
    "def gauss_source(data, mittelwert, varianz):\n",
    "    gauss = []\n",
    "    for i in data:\n",
    "        y = (1/((2*np.pi*varianz**2)**(1/2))) * np.exp(- ((i - mittelwert)**2 / (2*varianz**2)))\n",
    "        gauss.append(y)\n",
    "    return np.array(gauss)"
   ]
  },
  {
   "cell_type": "code",
   "execution_count": 68,
   "id": "e63e42d1",
   "metadata": {},
   "outputs": [],
   "source": [
    "data = np.linspace(-10,10, 30)\n",
    "mittelwert = 0\n",
    "varianz = 3.5"
   ]
  },
  {
   "cell_type": "code",
   "execution_count": 69,
   "id": "7b1907cf",
   "metadata": {},
   "outputs": [],
   "source": [
    "normalverteilun = gauss_source(data, mittelwert, varianz)"
   ]
  },
  {
   "cell_type": "code",
   "execution_count": 70,
   "id": "afc8594e",
   "metadata": {},
   "outputs": [
    {
     "data": {
      "text/plain": [
       "[<matplotlib.lines.Line2D at 0x7f2e89a55190>]"
      ]
     },
     "execution_count": 70,
     "metadata": {},
     "output_type": "execute_result"
    },
    {
     "data": {
      "image/png": "[encoded data removed]",
      "text/plain": [
       "<Figure size 432x288 with 1 Axes>"
      ]
     },
     "metadata": {
      "needs_background": "light"
     },
     "output_type": "display_data"
    }
   ],
   "source": [
    "plt.plot(data, normalverteilun)"
   ]
  },
  {
   "cell_type": "code",
   "execution_count": 73,
   "id": "39d83233",
   "metadata": {},
   "outputs": [],
   "source": [
    "k = 5\n",
    "set_of_k = np.array(list(np.random.randint(-10, 10) for i in range(k)))"
   ]
  },
  {
   "cell_type": "code",
   "execution_count": 74,
   "id": "cd046302",
   "metadata": {},
   "outputs": [
    {
     "data": {
      "text/plain": [
       "(array([-2,  8, -9, -2,  0]),\n",
       " array([-10.        ,  -9.31034483,  -8.62068966,  -7.93103448,\n",
       "         -7.24137931,  -6.55172414,  -5.86206897,  -5.17241379,\n",
       "         -4.48275862,  -3.79310345,  -3.10344828,  -2.4137931 ,\n",
       "         -1.72413793,  -1.03448276,  -0.34482759,   0.34482759,\n",
       "          1.03448276,   1.72413793,   2.4137931 ,   3.10344828,\n",
       "          3.79310345,   4.48275862,   5.17241379,   5.86206897,\n",
       "          6.55172414,   7.24137931,   7.93103448,   8.62068966,\n",
       "          9.31034483,  10.        ]))"
      ]
     },
     "execution_count": 74,
     "metadata": {},
     "output_type": "execute_result"
    }
   ],
   "source": []
  },
  {
   "cell_type": "code",
   "execution_count": null,
   "id": "4fe3271b",
   "metadata": {},
   "outputs": [],
   "source": []
  }
 ],
 "metadata": {
  "kernelspec": {
   "display_name": "conda",
   "language": "python",
   "name": "conda"
  },
  "language_info": {
   "codemirror_mode": {
    "name": "ipython",
    "version": 3
   },
   "file_extension": ".py",
   "mimetype": "text/x-python",
   "name": "python",
   "nbconvert_exporter": "python",
   "pygments_lexer": "ipython3",
   "version": "3.9.7"
  }
 },
 "nbformat": 4,
 "nbformat_minor": 5
}
